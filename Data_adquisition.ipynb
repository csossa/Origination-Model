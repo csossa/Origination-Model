{
  "nbformat": 4,
  "nbformat_minor": 0,
  "metadata": {
    "colab": {
      "provenance": [],
      "authorship_tag": "ABX9TyNYD46D9iM+DDsUu2zWvtuv",
      "include_colab_link": true
    },
    "kernelspec": {
      "name": "python3",
      "display_name": "Python 3"
    },
    "language_info": {
      "name": "python"
    }
  },
  "cells": [
    {
      "cell_type": "markdown",
      "metadata": {
        "id": "view-in-github",
        "colab_type": "text"
      },
      "source": [
        "<a href=\"https://colab.research.google.com/github/csossa/Origination-Model/blob/master/Data_adquisition.ipynb\" target=\"_parent\"><img src=\"https://colab.research.google.com/assets/colab-badge.svg\" alt=\"Open In Colab\"/></a>"
      ]
    },
    {
      "cell_type": "markdown",
      "source": [
        "## 2. Carga de datos\n",
        "---\n",
        "\n",
        "Implemente las funciones necesarias para cargar la información en dependencia de su procedencia (web, archivos planos, csv, bases de datos, entre otros)."
      ],
      "metadata": {
        "id": "7MkAcFEXuK83"
      }
    },
    {
      "cell_type": "code",
      "source": [
        "from google.colab import drive\n",
        "drive.mount('/content/drive')"
      ],
      "metadata": {
        "colab": {
          "base_uri": "https://localhost:8080/"
        },
        "id": "0QBNb_zMw-pL",
        "outputId": "f46d7e73-6f5b-43b2-d84f-5495cb7f9283"
      },
      "execution_count": null,
      "outputs": [
        {
          "output_type": "stream",
          "name": "stdout",
          "text": [
            "Mounted at /content/drive\n"
          ]
        }
      ]
    },
    {
      "cell_type": "code",
      "execution_count": null,
      "metadata": {
        "id": "GB0w96wqss4F"
      },
      "outputs": [],
      "source": [
        "# Ingrese su código aquí\n",
        "path = \"/content/drive/MyDrive/Machine Learning/Project DL/data20221109.xlsx\"\n",
        "data = pd.read_excel(path, sheet_name='data20221109_mora30')\n",
        "datos = pd.DataFrame(data)"
      ]
    },
    {
      "cell_type": "code",
      "source": [
        "# Se renombran las columnas para que sean más descriptivas\n",
        "datos.set_axis([\"#Obligación\", \"Modalidad\", \"Monto\", \"Garantia\",\n",
        "                \"Reestructurado\", \"Linea\", \"Forma pago\", \"Plazo\",\n",
        "                \"Edad\", \"Género\",\"Estado civil\", \"Madre cabeza familia\", \n",
        "                \"Personas a cargo\", \"Profesión\", \"Tipo vivienda\", \"Estrato\",\n",
        "                \"Ocupación\", \"Tipo contrato\", \"Sueldo\", \"Ingresos mes\",\n",
        "                \"Egresos mes\", \"Flujo neto\", \"#Creditos\",\"Escolaridad\", \n",
        "                \"Monto sobre ingresos\", \"Cuota\", \"Cuota sobre ingresos\",\n",
        "                \"Aportes\", \"Max_mora\"\n",
        "                ], axis=1, inplace=True)"
      ],
      "metadata": {
        "id": "yfgSW_612Skj"
      },
      "execution_count": null,
      "outputs": []
    }
  ]
}